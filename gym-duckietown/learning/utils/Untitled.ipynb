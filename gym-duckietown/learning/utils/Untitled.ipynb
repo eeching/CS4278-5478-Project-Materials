{
 "cells": [
  {
   "cell_type": "code",
   "execution_count": 10,
   "id": "3e3499c0",
   "metadata": {},
   "outputs": [],
   "source": [
    "import ast\n",
    "import argparse\n",
    "import logging\n",
    "from PIL import Image\n",
    "\n",
    "import os\n",
    "import numpy as np\n",
    "\n",
    "# Duckietown Specific\n",
    "from env import launch_env\n",
    "from wrappers import NormalizeWrapper, ImgWrapper, \\\n",
    "  DtRewardWrapper, ActionWrapper, ResizeWrapper\n"
   ]
  },
  {
   "cell_type": "code",
   "execution_count": 5,
   "id": "5b80a189",
   "metadata": {},
   "outputs": [
    {
     "name": "stdout",
     "output_type": "stream",
     "text": [
      "Initialized environment\n",
      "Initialized Wrappers\n",
      "[[[0.45098039 0.45098039 0.45098039 ... 0.45098039 0.45098039 0.45098039]\n",
      "  [0.45098039 0.45098039 0.45098039 ... 0.45098039 0.45098039 0.45098039]\n",
      "  [0.45098039 0.45098039 0.45098039 ... 0.45098039 0.45098039 0.45098039]\n",
      "  ...\n",
      "  [0.20784314 0.20784314 0.20784314 ... 0.15294118 0.15686275 0.15686275]\n",
      "  [0.20784314 0.20784314 0.20784314 ... 0.15294118 0.15686275 0.15686275]\n",
      "  [0.20784314 0.20784314 0.20784314 ... 0.15294118 0.15686275 0.15686275]]\n",
      "\n",
      " [[0.81960784 0.81960784 0.81960784 ... 0.81960784 0.81960784 0.81960784]\n",
      "  [0.81960784 0.81960784 0.81960784 ... 0.81960784 0.81960784 0.81960784]\n",
      "  [0.81960784 0.81960784 0.81960784 ... 0.81960784 0.81960784 0.81960784]\n",
      "  ...\n",
      "  [0.19607843 0.19607843 0.19607843 ... 0.14509804 0.14901961 0.15294118]\n",
      "  [0.19607843 0.19607843 0.19607843 ... 0.14509804 0.14901961 0.15294118]\n",
      "  [0.19607843 0.19607843 0.19607843 ... 0.14509804 0.14901961 0.15294118]]\n",
      "\n",
      " [[1.         1.         1.         ... 1.         1.         1.        ]\n",
      "  [1.         1.         1.         ... 1.         1.         1.        ]\n",
      "  [1.         1.         1.         ... 1.         1.         1.        ]\n",
      "  ...\n",
      "  [0.16862745 0.16862745 0.16862745 ... 0.12156863 0.1254902  0.12941176]\n",
      "  [0.16862745 0.16862745 0.16862745 ... 0.12156863 0.1254902  0.12941176]\n",
      "  [0.16862745 0.16862745 0.16862745 ... 0.12156863 0.1254902  0.12941176]]]\n"
     ]
    }
   ],
   "source": [
    "env = launch_env()\n",
    "print(\"Initialized environment\")\n",
    "\n",
    "# Wrappers\n",
    "env = ResizeWrapper(env)\n",
    "env = NormalizeWrapper(env)\n",
    "env = ImgWrapper(env)  # to make the images from 160x120x3 into 3x160x120\n",
    "env = ActionWrapper(env)\n",
    "env = DtRewardWrapper(env)\n",
    "print(\"Initialized Wrappers\")\n",
    "\n",
    "state_dim = env.observation_space.shape\n",
    "action_dim = env.action_space.shape[0]\n",
    "max_action = float(env.action_space.high[0])\n",
    "\n",
    "total_timesteps = 0\n",
    "timesteps_since_eval = 0\n",
    "episode_num = 0\n",
    "done = True\n",
    "episode_reward = None\n",
    "env_counter = 0\n",
    "reward = 0\n",
    "episode_timesteps = 0\n",
    "obs = env.reset()\n",
    "\n",
    "print(obs)\n"
   ]
  },
  {
   "cell_type": "code",
   "execution_count": 15,
   "id": "4e9fc486",
   "metadata": {},
   "outputs": [
    {
     "name": "stdout",
     "output_type": "stream",
     "text": [
      "(3, 160, 120)\n"
     ]
    }
   ],
   "source": [
    "channel, h, w = obs.shape\n",
    "data = np.transpose(obs, (0,1,2))\n",
    "print(data.shape)\n",
    "img = Image.fromarray(data, 'RGB')\n",
    "img.show()"
   ]
  },
  {
   "cell_type": "code",
   "execution_count": null,
   "id": "18e293b5",
   "metadata": {},
   "outputs": [],
   "source": [
    "while total_timesteps < 1:\n",
    "    action = env.action_space.sample()\n",
    "    # Perform action\n",
    "    new_obs, reward, done, _ = env.step(action)\n",
    "\n",
    "    obs = new_obs\n",
    "    print(obs)\n",
    "    \n",
    "    total_timesteps += 1"
   ]
  },
  {
   "cell_type": "code",
   "execution_count": null,
   "id": "7d0c0765",
   "metadata": {},
   "outputs": [],
   "source": []
  },
  {
   "cell_type": "code",
   "execution_count": null,
   "id": "0813623f",
   "metadata": {},
   "outputs": [],
   "source": []
  }
 ],
 "metadata": {
  "kernelspec": {
   "display_name": "gym-duckietown",
   "language": "python",
   "name": "gym-duckietown"
  },
  "language_info": {
   "codemirror_mode": {
    "name": "ipython",
    "version": 3
   },
   "file_extension": ".py",
   "mimetype": "text/x-python",
   "name": "python",
   "nbconvert_exporter": "python",
   "pygments_lexer": "ipython3",
   "version": "3.6.13"
  }
 },
 "nbformat": 4,
 "nbformat_minor": 5
}
